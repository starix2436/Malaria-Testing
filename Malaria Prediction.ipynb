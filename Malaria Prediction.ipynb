{
 "cells": [
  {
   "cell_type": "code",
   "execution_count": 1,
   "metadata": {},
   "outputs": [],
   "source": [
    "import pandas as pd\n",
    "import numpy as np\n",
    "import matplotlib.pyplot as plt\n",
    "%matplotlib inline"
   ]
  },
  {
   "cell_type": "code",
   "execution_count": 2,
   "metadata": {},
   "outputs": [],
   "source": [
    "malaria = pd.read_csv('mmc1.csv')"
   ]
  },
  {
   "cell_type": "code",
   "execution_count": 3,
   "metadata": {},
   "outputs": [
    {
     "data": {
      "text/html": [
       "<div>\n",
       "<style scoped>\n",
       "    .dataframe tbody tr th:only-of-type {\n",
       "        vertical-align: middle;\n",
       "    }\n",
       "\n",
       "    .dataframe tbody tr th {\n",
       "        vertical-align: top;\n",
       "    }\n",
       "\n",
       "    .dataframe thead th {\n",
       "        text-align: right;\n",
       "    }\n",
       "</style>\n",
       "<table border=\"1\" class=\"dataframe\">\n",
       "  <thead>\n",
       "    <tr style=\"text-align: right;\">\n",
       "      <th></th>\n",
       "      <th>age</th>\n",
       "      <th>sex</th>\n",
       "      <th>fever</th>\n",
       "      <th>cold</th>\n",
       "      <th>rigor</th>\n",
       "      <th>fatigue</th>\n",
       "      <th>headace</th>\n",
       "      <th>bitter_tongue</th>\n",
       "      <th>vomitting</th>\n",
       "      <th>diarrhea</th>\n",
       "      <th>Convulsion</th>\n",
       "      <th>Anemia</th>\n",
       "      <th>jundice</th>\n",
       "      <th>cocacola_urine</th>\n",
       "      <th>hypoglycemia</th>\n",
       "      <th>prostraction</th>\n",
       "      <th>hyperpyrexia</th>\n",
       "      <th>severe_maleria</th>\n",
       "    </tr>\n",
       "  </thead>\n",
       "  <tbody>\n",
       "    <tr>\n",
       "      <th>0</th>\n",
       "      <td>3</td>\n",
       "      <td>Female</td>\n",
       "      <td>1</td>\n",
       "      <td>1</td>\n",
       "      <td>0</td>\n",
       "      <td>1</td>\n",
       "      <td>1</td>\n",
       "      <td>1</td>\n",
       "      <td>0</td>\n",
       "      <td>1</td>\n",
       "      <td>1</td>\n",
       "      <td>0</td>\n",
       "      <td>1</td>\n",
       "      <td>1</td>\n",
       "      <td>1</td>\n",
       "      <td>0</td>\n",
       "      <td>0</td>\n",
       "      <td>0</td>\n",
       "    </tr>\n",
       "    <tr>\n",
       "      <th>1</th>\n",
       "      <td>3</td>\n",
       "      <td>Male</td>\n",
       "      <td>1</td>\n",
       "      <td>1</td>\n",
       "      <td>1</td>\n",
       "      <td>1</td>\n",
       "      <td>1</td>\n",
       "      <td>1</td>\n",
       "      <td>0</td>\n",
       "      <td>1</td>\n",
       "      <td>0</td>\n",
       "      <td>0</td>\n",
       "      <td>0</td>\n",
       "      <td>1</td>\n",
       "      <td>1</td>\n",
       "      <td>0</td>\n",
       "      <td>0</td>\n",
       "      <td>0</td>\n",
       "    </tr>\n",
       "    <tr>\n",
       "      <th>2</th>\n",
       "      <td>3</td>\n",
       "      <td>Male</td>\n",
       "      <td>1</td>\n",
       "      <td>1</td>\n",
       "      <td>1</td>\n",
       "      <td>1</td>\n",
       "      <td>1</td>\n",
       "      <td>0</td>\n",
       "      <td>0</td>\n",
       "      <td>1</td>\n",
       "      <td>1</td>\n",
       "      <td>0</td>\n",
       "      <td>0</td>\n",
       "      <td>1</td>\n",
       "      <td>1</td>\n",
       "      <td>0</td>\n",
       "      <td>0</td>\n",
       "      <td>1</td>\n",
       "    </tr>\n",
       "    <tr>\n",
       "      <th>3</th>\n",
       "      <td>4</td>\n",
       "      <td>Female</td>\n",
       "      <td>1</td>\n",
       "      <td>1</td>\n",
       "      <td>0</td>\n",
       "      <td>1</td>\n",
       "      <td>0</td>\n",
       "      <td>0</td>\n",
       "      <td>0</td>\n",
       "      <td>0</td>\n",
       "      <td>0</td>\n",
       "      <td>0</td>\n",
       "      <td>1</td>\n",
       "      <td>0</td>\n",
       "      <td>1</td>\n",
       "      <td>0</td>\n",
       "      <td>1</td>\n",
       "      <td>0</td>\n",
       "    </tr>\n",
       "    <tr>\n",
       "      <th>4</th>\n",
       "      <td>4</td>\n",
       "      <td>Male</td>\n",
       "      <td>1</td>\n",
       "      <td>1</td>\n",
       "      <td>1</td>\n",
       "      <td>0</td>\n",
       "      <td>1</td>\n",
       "      <td>0</td>\n",
       "      <td>0</td>\n",
       "      <td>0</td>\n",
       "      <td>1</td>\n",
       "      <td>0</td>\n",
       "      <td>1</td>\n",
       "      <td>1</td>\n",
       "      <td>1</td>\n",
       "      <td>0</td>\n",
       "      <td>0</td>\n",
       "      <td>0</td>\n",
       "    </tr>\n",
       "  </tbody>\n",
       "</table>\n",
       "</div>"
      ],
      "text/plain": [
       "   age     sex  fever  cold  rigor  fatigue  headace  bitter_tongue  \\\n",
       "0    3  Female      1     1      0        1        1              1   \n",
       "1    3    Male      1     1      1        1        1              1   \n",
       "2    3    Male      1     1      1        1        1              0   \n",
       "3    4  Female      1     1      0        1        0              0   \n",
       "4    4    Male      1     1      1        0        1              0   \n",
       "\n",
       "   vomitting  diarrhea  Convulsion  Anemia  jundice  cocacola_urine  \\\n",
       "0          0         1           1       0        1               1   \n",
       "1          0         1           0       0        0               1   \n",
       "2          0         1           1       0        0               1   \n",
       "3          0         0           0       0        1               0   \n",
       "4          0         0           1       0        1               1   \n",
       "\n",
       "   hypoglycemia  prostraction  hyperpyrexia  severe_maleria  \n",
       "0             1             0             0               0  \n",
       "1             1             0             0               0  \n",
       "2             1             0             0               1  \n",
       "3             1             0             1               0  \n",
       "4             1             0             0               0  "
      ]
     },
     "execution_count": 3,
     "metadata": {},
     "output_type": "execute_result"
    }
   ],
   "source": [
    "malaria.head()"
   ]
  },
  {
   "cell_type": "code",
   "execution_count": 4,
   "metadata": {},
   "outputs": [
    {
     "data": {
      "text/plain": [
       "(337, 18)"
      ]
     },
     "execution_count": 4,
     "metadata": {},
     "output_type": "execute_result"
    }
   ],
   "source": [
    "malaria.shape"
   ]
  },
  {
   "cell_type": "code",
   "execution_count": 5,
   "metadata": {},
   "outputs": [
    {
     "data": {
      "text/html": [
       "<div>\n",
       "<style scoped>\n",
       "    .dataframe tbody tr th:only-of-type {\n",
       "        vertical-align: middle;\n",
       "    }\n",
       "\n",
       "    .dataframe tbody tr th {\n",
       "        vertical-align: top;\n",
       "    }\n",
       "\n",
       "    .dataframe thead th {\n",
       "        text-align: right;\n",
       "    }\n",
       "</style>\n",
       "<table border=\"1\" class=\"dataframe\">\n",
       "  <thead>\n",
       "    <tr style=\"text-align: right;\">\n",
       "      <th></th>\n",
       "      <th>age</th>\n",
       "      <th>fever</th>\n",
       "      <th>cold</th>\n",
       "      <th>rigor</th>\n",
       "      <th>fatigue</th>\n",
       "      <th>headace</th>\n",
       "      <th>bitter_tongue</th>\n",
       "      <th>vomitting</th>\n",
       "      <th>diarrhea</th>\n",
       "      <th>Convulsion</th>\n",
       "      <th>Anemia</th>\n",
       "      <th>jundice</th>\n",
       "      <th>cocacola_urine</th>\n",
       "      <th>hypoglycemia</th>\n",
       "      <th>prostraction</th>\n",
       "      <th>hyperpyrexia</th>\n",
       "      <th>severe_maleria</th>\n",
       "    </tr>\n",
       "  </thead>\n",
       "  <tbody>\n",
       "    <tr>\n",
       "      <th>count</th>\n",
       "      <td>337.000000</td>\n",
       "      <td>337.000000</td>\n",
       "      <td>337.000000</td>\n",
       "      <td>337.000000</td>\n",
       "      <td>337.000000</td>\n",
       "      <td>337.000000</td>\n",
       "      <td>337.000000</td>\n",
       "      <td>337.000000</td>\n",
       "      <td>337.000000</td>\n",
       "      <td>337.000000</td>\n",
       "      <td>337.000000</td>\n",
       "      <td>337.000000</td>\n",
       "      <td>337.000000</td>\n",
       "      <td>337.000000</td>\n",
       "      <td>337.000000</td>\n",
       "      <td>337.000000</td>\n",
       "      <td>337.000000</td>\n",
       "    </tr>\n",
       "    <tr>\n",
       "      <th>mean</th>\n",
       "      <td>30.347181</td>\n",
       "      <td>0.750742</td>\n",
       "      <td>0.566766</td>\n",
       "      <td>0.341246</td>\n",
       "      <td>0.483680</td>\n",
       "      <td>0.700297</td>\n",
       "      <td>0.403561</td>\n",
       "      <td>0.074184</td>\n",
       "      <td>0.338279</td>\n",
       "      <td>0.344214</td>\n",
       "      <td>0.350148</td>\n",
       "      <td>0.658754</td>\n",
       "      <td>0.540059</td>\n",
       "      <td>0.857567</td>\n",
       "      <td>0.219585</td>\n",
       "      <td>0.139466</td>\n",
       "      <td>0.344214</td>\n",
       "    </tr>\n",
       "    <tr>\n",
       "      <th>std</th>\n",
       "      <td>14.720853</td>\n",
       "      <td>0.433227</td>\n",
       "      <td>0.496259</td>\n",
       "      <td>0.474833</td>\n",
       "      <td>0.500477</td>\n",
       "      <td>0.458809</td>\n",
       "      <td>0.491341</td>\n",
       "      <td>0.262460</td>\n",
       "      <td>0.473828</td>\n",
       "      <td>0.475818</td>\n",
       "      <td>0.477726</td>\n",
       "      <td>0.474833</td>\n",
       "      <td>0.499134</td>\n",
       "      <td>0.350014</td>\n",
       "      <td>0.414581</td>\n",
       "      <td>0.346947</td>\n",
       "      <td>0.475818</td>\n",
       "    </tr>\n",
       "    <tr>\n",
       "      <th>min</th>\n",
       "      <td>3.000000</td>\n",
       "      <td>0.000000</td>\n",
       "      <td>0.000000</td>\n",
       "      <td>0.000000</td>\n",
       "      <td>0.000000</td>\n",
       "      <td>0.000000</td>\n",
       "      <td>0.000000</td>\n",
       "      <td>0.000000</td>\n",
       "      <td>0.000000</td>\n",
       "      <td>0.000000</td>\n",
       "      <td>0.000000</td>\n",
       "      <td>0.000000</td>\n",
       "      <td>0.000000</td>\n",
       "      <td>0.000000</td>\n",
       "      <td>0.000000</td>\n",
       "      <td>0.000000</td>\n",
       "      <td>0.000000</td>\n",
       "    </tr>\n",
       "    <tr>\n",
       "      <th>25%</th>\n",
       "      <td>19.000000</td>\n",
       "      <td>1.000000</td>\n",
       "      <td>0.000000</td>\n",
       "      <td>0.000000</td>\n",
       "      <td>0.000000</td>\n",
       "      <td>0.000000</td>\n",
       "      <td>0.000000</td>\n",
       "      <td>0.000000</td>\n",
       "      <td>0.000000</td>\n",
       "      <td>0.000000</td>\n",
       "      <td>0.000000</td>\n",
       "      <td>0.000000</td>\n",
       "      <td>0.000000</td>\n",
       "      <td>1.000000</td>\n",
       "      <td>0.000000</td>\n",
       "      <td>0.000000</td>\n",
       "      <td>0.000000</td>\n",
       "    </tr>\n",
       "    <tr>\n",
       "      <th>50%</th>\n",
       "      <td>29.000000</td>\n",
       "      <td>1.000000</td>\n",
       "      <td>1.000000</td>\n",
       "      <td>0.000000</td>\n",
       "      <td>0.000000</td>\n",
       "      <td>1.000000</td>\n",
       "      <td>0.000000</td>\n",
       "      <td>0.000000</td>\n",
       "      <td>0.000000</td>\n",
       "      <td>0.000000</td>\n",
       "      <td>0.000000</td>\n",
       "      <td>1.000000</td>\n",
       "      <td>1.000000</td>\n",
       "      <td>1.000000</td>\n",
       "      <td>0.000000</td>\n",
       "      <td>0.000000</td>\n",
       "      <td>0.000000</td>\n",
       "    </tr>\n",
       "    <tr>\n",
       "      <th>75%</th>\n",
       "      <td>38.000000</td>\n",
       "      <td>1.000000</td>\n",
       "      <td>1.000000</td>\n",
       "      <td>1.000000</td>\n",
       "      <td>1.000000</td>\n",
       "      <td>1.000000</td>\n",
       "      <td>1.000000</td>\n",
       "      <td>0.000000</td>\n",
       "      <td>1.000000</td>\n",
       "      <td>1.000000</td>\n",
       "      <td>1.000000</td>\n",
       "      <td>1.000000</td>\n",
       "      <td>1.000000</td>\n",
       "      <td>1.000000</td>\n",
       "      <td>0.000000</td>\n",
       "      <td>0.000000</td>\n",
       "      <td>1.000000</td>\n",
       "    </tr>\n",
       "    <tr>\n",
       "      <th>max</th>\n",
       "      <td>77.000000</td>\n",
       "      <td>1.000000</td>\n",
       "      <td>1.000000</td>\n",
       "      <td>1.000000</td>\n",
       "      <td>1.000000</td>\n",
       "      <td>1.000000</td>\n",
       "      <td>1.000000</td>\n",
       "      <td>1.000000</td>\n",
       "      <td>1.000000</td>\n",
       "      <td>1.000000</td>\n",
       "      <td>1.000000</td>\n",
       "      <td>1.000000</td>\n",
       "      <td>1.000000</td>\n",
       "      <td>1.000000</td>\n",
       "      <td>1.000000</td>\n",
       "      <td>1.000000</td>\n",
       "      <td>1.000000</td>\n",
       "    </tr>\n",
       "  </tbody>\n",
       "</table>\n",
       "</div>"
      ],
      "text/plain": [
       "              age       fever        cold       rigor     fatigue     headace  \\\n",
       "count  337.000000  337.000000  337.000000  337.000000  337.000000  337.000000   \n",
       "mean    30.347181    0.750742    0.566766    0.341246    0.483680    0.700297   \n",
       "std     14.720853    0.433227    0.496259    0.474833    0.500477    0.458809   \n",
       "min      3.000000    0.000000    0.000000    0.000000    0.000000    0.000000   \n",
       "25%     19.000000    1.000000    0.000000    0.000000    0.000000    0.000000   \n",
       "50%     29.000000    1.000000    1.000000    0.000000    0.000000    1.000000   \n",
       "75%     38.000000    1.000000    1.000000    1.000000    1.000000    1.000000   \n",
       "max     77.000000    1.000000    1.000000    1.000000    1.000000    1.000000   \n",
       "\n",
       "       bitter_tongue   vomitting    diarrhea  Convulsion      Anemia  \\\n",
       "count     337.000000  337.000000  337.000000  337.000000  337.000000   \n",
       "mean        0.403561    0.074184    0.338279    0.344214    0.350148   \n",
       "std         0.491341    0.262460    0.473828    0.475818    0.477726   \n",
       "min         0.000000    0.000000    0.000000    0.000000    0.000000   \n",
       "25%         0.000000    0.000000    0.000000    0.000000    0.000000   \n",
       "50%         0.000000    0.000000    0.000000    0.000000    0.000000   \n",
       "75%         1.000000    0.000000    1.000000    1.000000    1.000000   \n",
       "max         1.000000    1.000000    1.000000    1.000000    1.000000   \n",
       "\n",
       "          jundice  cocacola_urine  hypoglycemia  prostraction  hyperpyrexia  \\\n",
       "count  337.000000      337.000000    337.000000    337.000000    337.000000   \n",
       "mean     0.658754        0.540059      0.857567      0.219585      0.139466   \n",
       "std      0.474833        0.499134      0.350014      0.414581      0.346947   \n",
       "min      0.000000        0.000000      0.000000      0.000000      0.000000   \n",
       "25%      0.000000        0.000000      1.000000      0.000000      0.000000   \n",
       "50%      1.000000        1.000000      1.000000      0.000000      0.000000   \n",
       "75%      1.000000        1.000000      1.000000      0.000000      0.000000   \n",
       "max      1.000000        1.000000      1.000000      1.000000      1.000000   \n",
       "\n",
       "       severe_maleria  \n",
       "count      337.000000  \n",
       "mean         0.344214  \n",
       "std          0.475818  \n",
       "min          0.000000  \n",
       "25%          0.000000  \n",
       "50%          0.000000  \n",
       "75%          1.000000  \n",
       "max          1.000000  "
      ]
     },
     "execution_count": 5,
     "metadata": {},
     "output_type": "execute_result"
    }
   ],
   "source": [
    "malaria.describe()"
   ]
  },
  {
   "cell_type": "code",
   "execution_count": 6,
   "metadata": {},
   "outputs": [],
   "source": [
    "values = {\"fever\":{\"no\":0, \"yes\":1},\"cold\":{\"no\":0, \"yes\":1},\"rigor\":{\"no\":0, \"yes\":1},\"fatigue\":{\"no\":0, \"yes\":1},\n",
    "          \"headace\":{\"no\":0, \"yes\":1},\"bitter_tongue\":{\"no\":0, \"yes\":1},\"vomitting\":{\"no\":0, \"yes\":1},\n",
    "          \"diarrhea\":{\"no\":0, \"yes\":1},\"Convulsion\":{\"no\":0, \"yes\":1},\"Anemia\":{\"no\":0, \"yes\":1},\"jundice\":{\"no\":0, \"yes\":1},\n",
    "          \"cocacola_urine\":{\"no\":0, \"yes\":1},\"hypoglycemia\":{\"no\":0, \"yes\":1},\"prostraction\":{\"no\":0, \"yes\":1},\n",
    "          \"hyperpyrexia\":{\"no\":0, \"yes\":1},\"hyperpyrexia\":{\"no\":0, \"yes\":1},\"severe_maleria\":{\"no\":0, \"yes\":1}}\n",
    "\n",
    "malaria.replace(values,inplace=True)"
   ]
  },
  {
   "cell_type": "code",
   "execution_count": 7,
   "metadata": {},
   "outputs": [
    {
     "data": {
      "text/html": [
       "<div>\n",
       "<style scoped>\n",
       "    .dataframe tbody tr th:only-of-type {\n",
       "        vertical-align: middle;\n",
       "    }\n",
       "\n",
       "    .dataframe tbody tr th {\n",
       "        vertical-align: top;\n",
       "    }\n",
       "\n",
       "    .dataframe thead th {\n",
       "        text-align: right;\n",
       "    }\n",
       "</style>\n",
       "<table border=\"1\" class=\"dataframe\">\n",
       "  <thead>\n",
       "    <tr style=\"text-align: right;\">\n",
       "      <th></th>\n",
       "      <th>age</th>\n",
       "      <th>sex</th>\n",
       "      <th>fever</th>\n",
       "      <th>cold</th>\n",
       "      <th>rigor</th>\n",
       "      <th>fatigue</th>\n",
       "      <th>headace</th>\n",
       "      <th>bitter_tongue</th>\n",
       "      <th>vomitting</th>\n",
       "      <th>diarrhea</th>\n",
       "      <th>Convulsion</th>\n",
       "      <th>Anemia</th>\n",
       "      <th>jundice</th>\n",
       "      <th>cocacola_urine</th>\n",
       "      <th>hypoglycemia</th>\n",
       "      <th>prostraction</th>\n",
       "      <th>hyperpyrexia</th>\n",
       "      <th>severe_maleria</th>\n",
       "    </tr>\n",
       "  </thead>\n",
       "  <tbody>\n",
       "    <tr>\n",
       "      <th>0</th>\n",
       "      <td>3</td>\n",
       "      <td>Female</td>\n",
       "      <td>1</td>\n",
       "      <td>1</td>\n",
       "      <td>0</td>\n",
       "      <td>1</td>\n",
       "      <td>1</td>\n",
       "      <td>1</td>\n",
       "      <td>0</td>\n",
       "      <td>1</td>\n",
       "      <td>1</td>\n",
       "      <td>0</td>\n",
       "      <td>1</td>\n",
       "      <td>1</td>\n",
       "      <td>1</td>\n",
       "      <td>0</td>\n",
       "      <td>0</td>\n",
       "      <td>0</td>\n",
       "    </tr>\n",
       "    <tr>\n",
       "      <th>1</th>\n",
       "      <td>3</td>\n",
       "      <td>Male</td>\n",
       "      <td>1</td>\n",
       "      <td>1</td>\n",
       "      <td>1</td>\n",
       "      <td>1</td>\n",
       "      <td>1</td>\n",
       "      <td>1</td>\n",
       "      <td>0</td>\n",
       "      <td>1</td>\n",
       "      <td>0</td>\n",
       "      <td>0</td>\n",
       "      <td>0</td>\n",
       "      <td>1</td>\n",
       "      <td>1</td>\n",
       "      <td>0</td>\n",
       "      <td>0</td>\n",
       "      <td>0</td>\n",
       "    </tr>\n",
       "    <tr>\n",
       "      <th>2</th>\n",
       "      <td>3</td>\n",
       "      <td>Male</td>\n",
       "      <td>1</td>\n",
       "      <td>1</td>\n",
       "      <td>1</td>\n",
       "      <td>1</td>\n",
       "      <td>1</td>\n",
       "      <td>0</td>\n",
       "      <td>0</td>\n",
       "      <td>1</td>\n",
       "      <td>1</td>\n",
       "      <td>0</td>\n",
       "      <td>0</td>\n",
       "      <td>1</td>\n",
       "      <td>1</td>\n",
       "      <td>0</td>\n",
       "      <td>0</td>\n",
       "      <td>1</td>\n",
       "    </tr>\n",
       "    <tr>\n",
       "      <th>3</th>\n",
       "      <td>4</td>\n",
       "      <td>Female</td>\n",
       "      <td>1</td>\n",
       "      <td>1</td>\n",
       "      <td>0</td>\n",
       "      <td>1</td>\n",
       "      <td>0</td>\n",
       "      <td>0</td>\n",
       "      <td>0</td>\n",
       "      <td>0</td>\n",
       "      <td>0</td>\n",
       "      <td>0</td>\n",
       "      <td>1</td>\n",
       "      <td>0</td>\n",
       "      <td>1</td>\n",
       "      <td>0</td>\n",
       "      <td>1</td>\n",
       "      <td>0</td>\n",
       "    </tr>\n",
       "    <tr>\n",
       "      <th>4</th>\n",
       "      <td>4</td>\n",
       "      <td>Male</td>\n",
       "      <td>1</td>\n",
       "      <td>1</td>\n",
       "      <td>1</td>\n",
       "      <td>0</td>\n",
       "      <td>1</td>\n",
       "      <td>0</td>\n",
       "      <td>0</td>\n",
       "      <td>0</td>\n",
       "      <td>1</td>\n",
       "      <td>0</td>\n",
       "      <td>1</td>\n",
       "      <td>1</td>\n",
       "      <td>1</td>\n",
       "      <td>0</td>\n",
       "      <td>0</td>\n",
       "      <td>0</td>\n",
       "    </tr>\n",
       "  </tbody>\n",
       "</table>\n",
       "</div>"
      ],
      "text/plain": [
       "   age     sex  fever  cold  rigor  fatigue  headace  bitter_tongue  \\\n",
       "0    3  Female      1     1      0        1        1              1   \n",
       "1    3    Male      1     1      1        1        1              1   \n",
       "2    3    Male      1     1      1        1        1              0   \n",
       "3    4  Female      1     1      0        1        0              0   \n",
       "4    4    Male      1     1      1        0        1              0   \n",
       "\n",
       "   vomitting  diarrhea  Convulsion  Anemia  jundice  cocacola_urine  \\\n",
       "0          0         1           1       0        1               1   \n",
       "1          0         1           0       0        0               1   \n",
       "2          0         1           1       0        0               1   \n",
       "3          0         0           0       0        1               0   \n",
       "4          0         0           1       0        1               1   \n",
       "\n",
       "   hypoglycemia  prostraction  hyperpyrexia  severe_maleria  \n",
       "0             1             0             0               0  \n",
       "1             1             0             0               0  \n",
       "2             1             0             0               1  \n",
       "3             1             0             1               0  \n",
       "4             1             0             0               0  "
      ]
     },
     "execution_count": 7,
     "metadata": {},
     "output_type": "execute_result"
    }
   ],
   "source": [
    "malaria.head()"
   ]
  },
  {
   "cell_type": "code",
   "execution_count": 8,
   "metadata": {},
   "outputs": [],
   "source": [
    "y = malaria['severe_maleria']"
   ]
  },
  {
   "cell_type": "code",
   "execution_count": 9,
   "metadata": {},
   "outputs": [
    {
     "data": {
      "text/plain": [
       "0      0\n",
       "1      0\n",
       "2      1\n",
       "3      0\n",
       "4      0\n",
       "      ..\n",
       "332    0\n",
       "333    0\n",
       "334    0\n",
       "335    1\n",
       "336    0\n",
       "Name: severe_maleria, Length: 337, dtype: int64"
      ]
     },
     "execution_count": 9,
     "metadata": {},
     "output_type": "execute_result"
    }
   ],
   "source": [
    "y"
   ]
  },
  {
   "cell_type": "code",
   "execution_count": 10,
   "metadata": {},
   "outputs": [],
   "source": [
    "new_malaria = malaria.drop('severe_maleria', axis=1)"
   ]
  },
  {
   "cell_type": "code",
   "execution_count": 11,
   "metadata": {},
   "outputs": [
    {
     "data": {
      "text/html": [
       "<div>\n",
       "<style scoped>\n",
       "    .dataframe tbody tr th:only-of-type {\n",
       "        vertical-align: middle;\n",
       "    }\n",
       "\n",
       "    .dataframe tbody tr th {\n",
       "        vertical-align: top;\n",
       "    }\n",
       "\n",
       "    .dataframe thead th {\n",
       "        text-align: right;\n",
       "    }\n",
       "</style>\n",
       "<table border=\"1\" class=\"dataframe\">\n",
       "  <thead>\n",
       "    <tr style=\"text-align: right;\">\n",
       "      <th></th>\n",
       "      <th>age</th>\n",
       "      <th>sex</th>\n",
       "      <th>fever</th>\n",
       "      <th>cold</th>\n",
       "      <th>rigor</th>\n",
       "      <th>fatigue</th>\n",
       "      <th>headace</th>\n",
       "      <th>bitter_tongue</th>\n",
       "      <th>vomitting</th>\n",
       "      <th>diarrhea</th>\n",
       "      <th>Convulsion</th>\n",
       "      <th>Anemia</th>\n",
       "      <th>jundice</th>\n",
       "      <th>cocacola_urine</th>\n",
       "      <th>hypoglycemia</th>\n",
       "      <th>prostraction</th>\n",
       "      <th>hyperpyrexia</th>\n",
       "    </tr>\n",
       "  </thead>\n",
       "  <tbody>\n",
       "    <tr>\n",
       "      <th>0</th>\n",
       "      <td>3</td>\n",
       "      <td>Female</td>\n",
       "      <td>1</td>\n",
       "      <td>1</td>\n",
       "      <td>0</td>\n",
       "      <td>1</td>\n",
       "      <td>1</td>\n",
       "      <td>1</td>\n",
       "      <td>0</td>\n",
       "      <td>1</td>\n",
       "      <td>1</td>\n",
       "      <td>0</td>\n",
       "      <td>1</td>\n",
       "      <td>1</td>\n",
       "      <td>1</td>\n",
       "      <td>0</td>\n",
       "      <td>0</td>\n",
       "    </tr>\n",
       "    <tr>\n",
       "      <th>1</th>\n",
       "      <td>3</td>\n",
       "      <td>Male</td>\n",
       "      <td>1</td>\n",
       "      <td>1</td>\n",
       "      <td>1</td>\n",
       "      <td>1</td>\n",
       "      <td>1</td>\n",
       "      <td>1</td>\n",
       "      <td>0</td>\n",
       "      <td>1</td>\n",
       "      <td>0</td>\n",
       "      <td>0</td>\n",
       "      <td>0</td>\n",
       "      <td>1</td>\n",
       "      <td>1</td>\n",
       "      <td>0</td>\n",
       "      <td>0</td>\n",
       "    </tr>\n",
       "    <tr>\n",
       "      <th>2</th>\n",
       "      <td>3</td>\n",
       "      <td>Male</td>\n",
       "      <td>1</td>\n",
       "      <td>1</td>\n",
       "      <td>1</td>\n",
       "      <td>1</td>\n",
       "      <td>1</td>\n",
       "      <td>0</td>\n",
       "      <td>0</td>\n",
       "      <td>1</td>\n",
       "      <td>1</td>\n",
       "      <td>0</td>\n",
       "      <td>0</td>\n",
       "      <td>1</td>\n",
       "      <td>1</td>\n",
       "      <td>0</td>\n",
       "      <td>0</td>\n",
       "    </tr>\n",
       "    <tr>\n",
       "      <th>3</th>\n",
       "      <td>4</td>\n",
       "      <td>Female</td>\n",
       "      <td>1</td>\n",
       "      <td>1</td>\n",
       "      <td>0</td>\n",
       "      <td>1</td>\n",
       "      <td>0</td>\n",
       "      <td>0</td>\n",
       "      <td>0</td>\n",
       "      <td>0</td>\n",
       "      <td>0</td>\n",
       "      <td>0</td>\n",
       "      <td>1</td>\n",
       "      <td>0</td>\n",
       "      <td>1</td>\n",
       "      <td>0</td>\n",
       "      <td>1</td>\n",
       "    </tr>\n",
       "    <tr>\n",
       "      <th>4</th>\n",
       "      <td>4</td>\n",
       "      <td>Male</td>\n",
       "      <td>1</td>\n",
       "      <td>1</td>\n",
       "      <td>1</td>\n",
       "      <td>0</td>\n",
       "      <td>1</td>\n",
       "      <td>0</td>\n",
       "      <td>0</td>\n",
       "      <td>0</td>\n",
       "      <td>1</td>\n",
       "      <td>0</td>\n",
       "      <td>1</td>\n",
       "      <td>1</td>\n",
       "      <td>1</td>\n",
       "      <td>0</td>\n",
       "      <td>0</td>\n",
       "    </tr>\n",
       "  </tbody>\n",
       "</table>\n",
       "</div>"
      ],
      "text/plain": [
       "   age     sex  fever  cold  rigor  fatigue  headace  bitter_tongue  \\\n",
       "0    3  Female      1     1      0        1        1              1   \n",
       "1    3    Male      1     1      1        1        1              1   \n",
       "2    3    Male      1     1      1        1        1              0   \n",
       "3    4  Female      1     1      0        1        0              0   \n",
       "4    4    Male      1     1      1        0        1              0   \n",
       "\n",
       "   vomitting  diarrhea  Convulsion  Anemia  jundice  cocacola_urine  \\\n",
       "0          0         1           1       0        1               1   \n",
       "1          0         1           0       0        0               1   \n",
       "2          0         1           1       0        0               1   \n",
       "3          0         0           0       0        1               0   \n",
       "4          0         0           1       0        1               1   \n",
       "\n",
       "   hypoglycemia  prostraction  hyperpyrexia  \n",
       "0             1             0             0  \n",
       "1             1             0             0  \n",
       "2             1             0             0  \n",
       "3             1             0             1  \n",
       "4             1             0             0  "
      ]
     },
     "execution_count": 11,
     "metadata": {},
     "output_type": "execute_result"
    }
   ],
   "source": [
    "new_malaria.head()"
   ]
  },
  {
   "cell_type": "code",
   "execution_count": 12,
   "metadata": {},
   "outputs": [],
   "source": [
    "new_malaria = pd.get_dummies(new_malaria)"
   ]
  },
  {
   "cell_type": "code",
   "execution_count": 13,
   "metadata": {},
   "outputs": [],
   "source": [
    "new_malaria = new_malaria.drop('age', axis=1)\n",
    "new_malaria = new_malaria.drop('sex_0', axis=1)"
   ]
  },
  {
   "cell_type": "code",
   "execution_count": 14,
   "metadata": {},
   "outputs": [
    {
     "data": {
      "text/html": [
       "<div>\n",
       "<style scoped>\n",
       "    .dataframe tbody tr th:only-of-type {\n",
       "        vertical-align: middle;\n",
       "    }\n",
       "\n",
       "    .dataframe tbody tr th {\n",
       "        vertical-align: top;\n",
       "    }\n",
       "\n",
       "    .dataframe thead th {\n",
       "        text-align: right;\n",
       "    }\n",
       "</style>\n",
       "<table border=\"1\" class=\"dataframe\">\n",
       "  <thead>\n",
       "    <tr style=\"text-align: right;\">\n",
       "      <th></th>\n",
       "      <th>fever</th>\n",
       "      <th>cold</th>\n",
       "      <th>rigor</th>\n",
       "      <th>fatigue</th>\n",
       "      <th>headace</th>\n",
       "      <th>bitter_tongue</th>\n",
       "      <th>vomitting</th>\n",
       "      <th>diarrhea</th>\n",
       "      <th>Convulsion</th>\n",
       "      <th>Anemia</th>\n",
       "      <th>jundice</th>\n",
       "      <th>cocacola_urine</th>\n",
       "      <th>hypoglycemia</th>\n",
       "      <th>prostraction</th>\n",
       "      <th>hyperpyrexia</th>\n",
       "      <th>sex_Female</th>\n",
       "      <th>sex_Male</th>\n",
       "    </tr>\n",
       "  </thead>\n",
       "  <tbody>\n",
       "    <tr>\n",
       "      <th>0</th>\n",
       "      <td>1</td>\n",
       "      <td>1</td>\n",
       "      <td>0</td>\n",
       "      <td>1</td>\n",
       "      <td>1</td>\n",
       "      <td>1</td>\n",
       "      <td>0</td>\n",
       "      <td>1</td>\n",
       "      <td>1</td>\n",
       "      <td>0</td>\n",
       "      <td>1</td>\n",
       "      <td>1</td>\n",
       "      <td>1</td>\n",
       "      <td>0</td>\n",
       "      <td>0</td>\n",
       "      <td>1</td>\n",
       "      <td>0</td>\n",
       "    </tr>\n",
       "    <tr>\n",
       "      <th>1</th>\n",
       "      <td>1</td>\n",
       "      <td>1</td>\n",
       "      <td>1</td>\n",
       "      <td>1</td>\n",
       "      <td>1</td>\n",
       "      <td>1</td>\n",
       "      <td>0</td>\n",
       "      <td>1</td>\n",
       "      <td>0</td>\n",
       "      <td>0</td>\n",
       "      <td>0</td>\n",
       "      <td>1</td>\n",
       "      <td>1</td>\n",
       "      <td>0</td>\n",
       "      <td>0</td>\n",
       "      <td>0</td>\n",
       "      <td>1</td>\n",
       "    </tr>\n",
       "    <tr>\n",
       "      <th>2</th>\n",
       "      <td>1</td>\n",
       "      <td>1</td>\n",
       "      <td>1</td>\n",
       "      <td>1</td>\n",
       "      <td>1</td>\n",
       "      <td>0</td>\n",
       "      <td>0</td>\n",
       "      <td>1</td>\n",
       "      <td>1</td>\n",
       "      <td>0</td>\n",
       "      <td>0</td>\n",
       "      <td>1</td>\n",
       "      <td>1</td>\n",
       "      <td>0</td>\n",
       "      <td>0</td>\n",
       "      <td>0</td>\n",
       "      <td>1</td>\n",
       "    </tr>\n",
       "    <tr>\n",
       "      <th>3</th>\n",
       "      <td>1</td>\n",
       "      <td>1</td>\n",
       "      <td>0</td>\n",
       "      <td>1</td>\n",
       "      <td>0</td>\n",
       "      <td>0</td>\n",
       "      <td>0</td>\n",
       "      <td>0</td>\n",
       "      <td>0</td>\n",
       "      <td>0</td>\n",
       "      <td>1</td>\n",
       "      <td>0</td>\n",
       "      <td>1</td>\n",
       "      <td>0</td>\n",
       "      <td>1</td>\n",
       "      <td>1</td>\n",
       "      <td>0</td>\n",
       "    </tr>\n",
       "    <tr>\n",
       "      <th>4</th>\n",
       "      <td>1</td>\n",
       "      <td>1</td>\n",
       "      <td>1</td>\n",
       "      <td>0</td>\n",
       "      <td>1</td>\n",
       "      <td>0</td>\n",
       "      <td>0</td>\n",
       "      <td>0</td>\n",
       "      <td>1</td>\n",
       "      <td>0</td>\n",
       "      <td>1</td>\n",
       "      <td>1</td>\n",
       "      <td>1</td>\n",
       "      <td>0</td>\n",
       "      <td>0</td>\n",
       "      <td>0</td>\n",
       "      <td>1</td>\n",
       "    </tr>\n",
       "  </tbody>\n",
       "</table>\n",
       "</div>"
      ],
      "text/plain": [
       "   fever  cold  rigor  fatigue  headace  bitter_tongue  vomitting  diarrhea  \\\n",
       "0      1     1      0        1        1              1          0         1   \n",
       "1      1     1      1        1        1              1          0         1   \n",
       "2      1     1      1        1        1              0          0         1   \n",
       "3      1     1      0        1        0              0          0         0   \n",
       "4      1     1      1        0        1              0          0         0   \n",
       "\n",
       "   Convulsion  Anemia  jundice  cocacola_urine  hypoglycemia  prostraction  \\\n",
       "0           1       0        1               1             1             0   \n",
       "1           0       0        0               1             1             0   \n",
       "2           1       0        0               1             1             0   \n",
       "3           0       0        1               0             1             0   \n",
       "4           1       0        1               1             1             0   \n",
       "\n",
       "   hyperpyrexia  sex_Female  sex_Male  \n",
       "0             0           1         0  \n",
       "1             0           0         1  \n",
       "2             0           0         1  \n",
       "3             1           1         0  \n",
       "4             0           0         1  "
      ]
     },
     "execution_count": 14,
     "metadata": {},
     "output_type": "execute_result"
    }
   ],
   "source": [
    "new_malaria.head()"
   ]
  },
  {
   "cell_type": "code",
   "execution_count": 15,
   "metadata": {},
   "outputs": [
    {
     "name": "stdout",
     "output_type": "stream",
     "text": [
      "severe_maleria\n",
      "0    221\n",
      "1    116\n",
      "dtype: int64\n"
     ]
    }
   ],
   "source": [
    "print(malaria.groupby('severe_maleria').size())"
   ]
  },
  {
   "cell_type": "code",
   "execution_count": 16,
   "metadata": {},
   "outputs": [
    {
     "name": "stderr",
     "output_type": "stream",
     "text": [
      "C:\\Users\\nilk2\\anaconda3\\lib\\site-packages\\seaborn\\_decorators.py:36: FutureWarning: Pass the following variable as a keyword arg: x. From version 0.12, the only valid positional argument will be `data`, and passing other arguments without an explicit keyword will result in an error or misinterpretation.\n",
      "  warnings.warn(\n"
     ]
    },
    {
     "data": {
      "text/plain": [
       "<AxesSubplot:xlabel='severe_maleria', ylabel='count'>"
      ]
     },
     "execution_count": 16,
     "metadata": {},
     "output_type": "execute_result"
    },
    {
     "data": {
      "image/png": "[encoded data removed]",
      "text/plain": [
       "<Figure size 432x288 with 1 Axes>"
      ]
     },
     "metadata": {
      "needs_background": "light"
     },
     "output_type": "display_data"
    }
   ],
   "source": [
    "import seaborn as sns\n",
    "\n",
    "sns.countplot(malaria['severe_maleria'],label=\"Count\")"
   ]
  },
  {
   "cell_type": "code",
   "execution_count": 17,
   "metadata": {},
   "outputs": [],
   "source": [
    "from sklearn.model_selection import train_test_split\n",
    "\n",
    "X_train, X_test, y_train, y_test = train_test_split(new_malaria, y, test_size=0.25, random_state=0)"
   ]
  },
  {
   "cell_type": "code",
   "execution_count": 18,
   "metadata": {},
   "outputs": [],
   "source": [
    "from sklearn.metrics import classification_report, confusion_matrix, ConfusionMatrixDisplay, recall_score, accuracy_score, precision_score, f1_score\n",
    "def evaluation_parametrics(name, y_train, yp_train, y_test, yp_test):\n",
    "    \n",
    "    print(\"\\n-----------------------------{}-----------------------------\\n\".format(name))\n",
    "    \n",
    "    cm_train = confusion_matrix(y_train, yp_train)\n",
    "    t1 = ConfusionMatrixDisplay(cm_train)\n",
    "    s1 = round((cm_train[0,0]/(cm_train[0,0] + cm_train[0,1])),4)\n",
    "    \n",
    "    print(\"Classification Report for Train Data\\n\")\n",
    "    print(classification_report(y_train, yp_train)) \n",
    "    print(\"--------------------------------------------------------------------------\")\n",
    "    print(\"Recall on Train Data: \", round(recall_score(y_train, yp_train),4))\n",
    "    print(\"Specificity on Train Data: \", s1)\n",
    "    print(\"Accuracy on Train Data: \", round(accuracy_score(y_train, yp_train),4))\n",
    "    print(\"Precision on Train Data: \", round(precision_score(y_train, yp_train),4))\n",
    "    print(\"F1 Score on Train Data: \", round(f1_score(y_train, yp_train),4))\n",
    "    print(\"--------------------------------------------------------------------------\")\n",
    "          \n",
    "    cm_test = confusion_matrix(y_test, yp_test)\n",
    "    t2 = ConfusionMatrixDisplay(cm_test)\n",
    "    s2 = round((cm_test[0,0]/(cm_test[0,0] + cm_test[0,1])),4)\n",
    "    \n",
    "    print(\"\\nClassification Report for Test Data\\n\")\n",
    "    print(classification_report(y_test, yp_test))   \n",
    "    print(\"--------------------------------------------------------------------------\")\n",
    "    print(\"Recall on Test Data: \", round(recall_score(y_test, yp_test), 4))\n",
    "    print(\"Specificity on Test Data: \", s2)\n",
    "    print(\"Accuracy on Test Data: \", round(accuracy_score(y_test, yp_test), 4))\n",
    "    print(\"Precision on Test Data: \", round(precision_score(y_test, yp_test), 4))\n",
    "    print(\"F1 Score Test Data: \", round(f1_score(y_test, yp_test), 4))\n",
    "    print(\"--------------------------------------------------------------------------\")\n",
    "    \n",
    "    t1.plot()\n",
    "    t2.plot()"
   ]
  },
  {
   "cell_type": "code",
   "execution_count": 19,
   "metadata": {},
   "outputs": [
    {
     "data": {
      "image/png": "[encoded data removed]",
      "text/plain": [
       "<Figure size 432x288 with 1 Axes>"
      ]
     },
     "metadata": {
      "needs_background": "light"
     },
     "output_type": "display_data"
    }
   ],
   "source": [
    "from sklearn.neighbors import KNeighborsClassifier\n",
    "\n",
    "training_accuracy = []\n",
    "test_accuracy = []\n",
    "# try n_neighbors from 1 to 10\n",
    "neighbors_settings = range(1, 11)\n",
    "\n",
    "for n_neighbors in neighbors_settings:\n",
    "    # build the model\n",
    "    knn = KNeighborsClassifier(n_neighbors=n_neighbors)\n",
    "    knn.fit(X_train, y_train)\n",
    "    # record training set accuracy\n",
    "    training_accuracy.append(knn.score(X_train, y_train))\n",
    "    # record test set accuracy\n",
    "    test_accuracy.append(knn.score(X_test, y_test))\n",
    "\n",
    "plt.plot(neighbors_settings, training_accuracy, label=\"training accuracy\")\n",
    "plt.plot(neighbors_settings, test_accuracy, label=\"test accuracy\")\n",
    "plt.ylabel(\"Accuracy\")\n",
    "plt.xlabel(\"n_neighbors\")\n",
    "plt.legend()\n",
    "plt.savefig('knn_compare_model')\n"
   ]
  },
  {
   "cell_type": "code",
   "execution_count": 20,
   "metadata": {},
   "outputs": [
    {
     "name": "stdout",
     "output_type": "stream",
     "text": [
      "Accuracy of K-NN classifier on training set: 0.67\n",
      "Accuracy of K-NN classifier on test set: 0.60\n",
      "\n",
      "-----------------------------K Nearest Neighbors Classifier-----------------------------\n",
      "\n",
      "Classification Report for Train Data\n",
      "\n",
      "              precision    recall  f1-score   support\n",
      "\n",
      "           0       0.69      0.91      0.78       162\n",
      "           1       0.61      0.24      0.35        90\n",
      "\n",
      "    accuracy                           0.67       252\n",
      "   macro avg       0.65      0.58      0.57       252\n",
      "weighted avg       0.66      0.67      0.63       252\n",
      "\n",
      "--------------------------------------------------------------------------\n",
      "Recall on Train Data:  0.2444\n",
      "Specificity on Train Data:  0.9136\n",
      "Accuracy on Train Data:  0.6746\n",
      "Precision on Train Data:  0.6111\n",
      "F1 Score on Train Data:  0.3492\n",
      "--------------------------------------------------------------------------\n",
      "\n",
      "Classification Report for Test Data\n",
      "\n",
      "              precision    recall  f1-score   support\n",
      "\n",
      "           0       0.68      0.80      0.73        59\n",
      "           1       0.25      0.15      0.19        26\n",
      "\n",
      "    accuracy                           0.60        85\n",
      "   macro avg       0.47      0.48      0.46        85\n",
      "weighted avg       0.55      0.60      0.57        85\n",
      "\n",
      "--------------------------------------------------------------------------\n",
      "Recall on Test Data:  0.1538\n",
      "Specificity on Test Data:  0.7966\n",
      "Accuracy on Test Data:  0.6\n",
      "Precision on Test Data:  0.25\n",
      "F1 Score Test Data:  0.1905\n",
      "--------------------------------------------------------------------------\n"
     ]
    },
    {
     "data": {
      "image/png": "[encoded data removed]",
      "text/plain": [
       "<Figure size 432x288 with 2 Axes>"
      ]
     },
     "metadata": {
      "needs_background": "light"
     },
     "output_type": "display_data"
    },
    {
     "data": {
      "image/png": "[encoded data removed]",
      "text/plain": [
       "<Figure size 432x288 with 2 Axes>"
      ]
     },
     "metadata": {
      "needs_background": "light"
     },
     "output_type": "display_data"
    }
   ],
   "source": [
    "knn = KNeighborsClassifier(n_neighbors=10)\n",
    "knn.fit(X_train, y_train)\n",
    "\n",
    "print('Accuracy of K-NN classifier on training set: {:.2f}'.format(knn.score(X_train, y_train)))\n",
    "print('Accuracy of K-NN classifier on test set: {:.2f}'.format(knn.score(X_test, y_test)))\n",
    "\n",
    "knn_yp_train = knn.predict(X_train)\n",
    "knn_yp_test = knn.predict(X_test)\n",
    "\n",
    "# Model Evaluation\n",
    "\n",
    "evaluation_parametrics(\"K Nearest Neighbors Classifier\", y_train, knn_yp_train, y_test, knn_yp_test)"
   ]
  },
  {
   "cell_type": "code",
   "execution_count": 21,
   "metadata": {},
   "outputs": [
    {
     "name": "stdout",
     "output_type": "stream",
     "text": [
      "Training set accuracy: 0.675\n",
      "Test set accuracy: 0.671\n"
     ]
    }
   ],
   "source": [
    "from sklearn.linear_model import LogisticRegression\n",
    "\n",
    "logreg = LogisticRegression(C=1).fit(X_train, y_train)\n",
    "print(\"Training set accuracy: {:.3f}\".format(logreg.score(X_train, y_train)))\n",
    "print(\"Test set accuracy: {:.3f}\".format(logreg.score(X_test, y_test)))"
   ]
  },
  {
   "cell_type": "code",
   "execution_count": 22,
   "metadata": {},
   "outputs": [
    {
     "name": "stdout",
     "output_type": "stream",
     "text": [
      "Training set accuracy: 0.643\n",
      "Test set accuracy: 0.694\n"
     ]
    }
   ],
   "source": [
    "from sklearn.linear_model import LogisticRegression\n",
    "\n",
    "logreg = LogisticRegression(C=0.01).fit(X_train, y_train)\n",
    "print(\"Training set accuracy: {:.3f}\".format(logreg.score(X_train, y_train)))\n",
    "print(\"Test set accuracy: {:.3f}\".format(logreg.score(X_test, y_test)))"
   ]
  },
  {
   "cell_type": "code",
   "execution_count": 23,
   "metadata": {},
   "outputs": [
    {
     "name": "stdout",
     "output_type": "stream",
     "text": [
      "Training set accuracy: 0.663\n",
      "Test set accuracy: 0.647\n",
      "\n",
      "-----------------------------Logistic Regression Classifier-----------------------------\n",
      "\n",
      "Classification Report for Train Data\n",
      "\n",
      "              precision    recall  f1-score   support\n",
      "\n",
      "           0       0.70      0.84      0.76       162\n",
      "           1       0.54      0.34      0.42        90\n",
      "\n",
      "    accuracy                           0.66       252\n",
      "   macro avg       0.62      0.59      0.59       252\n",
      "weighted avg       0.64      0.66      0.64       252\n",
      "\n",
      "--------------------------------------------------------------------------\n",
      "Recall on Train Data:  0.3444\n",
      "Specificity on Train Data:  0.8395\n",
      "Accuracy on Train Data:  0.6627\n",
      "Precision on Train Data:  0.5439\n",
      "F1 Score on Train Data:  0.4218\n",
      "--------------------------------------------------------------------------\n",
      "\n",
      "Classification Report for Test Data\n",
      "\n",
      "              precision    recall  f1-score   support\n",
      "\n",
      "           0       0.72      0.80      0.76        59\n",
      "           1       0.40      0.31      0.35        26\n",
      "\n",
      "    accuracy                           0.65        85\n",
      "   macro avg       0.56      0.55      0.55        85\n",
      "weighted avg       0.62      0.65      0.63        85\n",
      "\n",
      "--------------------------------------------------------------------------\n",
      "Recall on Test Data:  0.3077\n",
      "Specificity on Test Data:  0.7966\n",
      "Accuracy on Test Data:  0.6471\n",
      "Precision on Test Data:  0.4\n",
      "F1 Score Test Data:  0.3478\n",
      "--------------------------------------------------------------------------\n"
     ]
    },
    {
     "data": {
      "image/png": "[encoded data removed]",
      "text/plain": [
       "<Figure size 432x288 with 2 Axes>"
      ]
     },
     "metadata": {
      "needs_background": "light"
     },
     "output_type": "display_data"
    },
    {
     "data": {
      "image/png": "[encoded data removed]",
      "text/plain": [
       "<Figure size 432x288 with 2 Axes>"
      ]
     },
     "metadata": {
      "needs_background": "light"
     },
     "output_type": "display_data"
    }
   ],
   "source": [
    "from sklearn.linear_model import LogisticRegression\n",
    "\n",
    "logreg = LogisticRegression(C=20).fit(X_train, y_train)\n",
    "print(\"Training set accuracy: {:.3f}\".format(logreg.score(X_train, y_train)))\n",
    "print(\"Test set accuracy: {:.3f}\".format(logreg.score(X_test, y_test)))\n",
    "\n",
    "logreg.fit(X_train, y_train)\n",
    "\n",
    "lr_yp_train = logreg.predict(X_train)\n",
    "lr_yp_test = logreg.predict(X_test)\n",
    "\n",
    "# Model Evaluation\n",
    "\n",
    "evaluation_parametrics(\"Logistic Regression Classifier\", y_train, lr_yp_train, y_test, lr_yp_test)"
   ]
  },
  {
   "cell_type": "code",
   "execution_count": 24,
   "metadata": {},
   "outputs": [
    {
     "name": "stdout",
     "output_type": "stream",
     "text": [
      "Accuracy on training set: 0.992\n",
      "Accuracy on test set: 0.565\n"
     ]
    }
   ],
   "source": [
    "from sklearn.tree import DecisionTreeClassifier\n",
    "\n",
    "tree = DecisionTreeClassifier(random_state=0)\n",
    "tree.fit(X_train, y_train)\n",
    "print(\"Accuracy on training set: {:.3f}\".format(tree.score(X_train, y_train)))\n",
    "print(\"Accuracy on test set: {:.3f}\".format(tree.score(X_test, y_test)))"
   ]
  },
  {
   "cell_type": "code",
   "execution_count": 25,
   "metadata": {},
   "outputs": [
    {
     "name": "stdout",
     "output_type": "stream",
     "text": [
      "Accuracy on training set: 0.774\n",
      "Accuracy on test set: 0.565\n",
      "\n",
      "-----------------------------Decision Tree Classifier-----------------------------\n",
      "\n",
      "Classification Report for Train Data\n",
      "\n",
      "              precision    recall  f1-score   support\n",
      "\n",
      "           0       0.85      0.79      0.82       162\n",
      "           1       0.66      0.74      0.70        90\n",
      "\n",
      "    accuracy                           0.77       252\n",
      "   macro avg       0.76      0.77      0.76       252\n",
      "weighted avg       0.78      0.77      0.78       252\n",
      "\n",
      "--------------------------------------------------------------------------\n",
      "Recall on Train Data:  0.7444\n",
      "Specificity on Train Data:  0.7901\n",
      "Accuracy on Train Data:  0.7738\n",
      "Precision on Train Data:  0.6634\n",
      "F1 Score on Train Data:  0.7016\n",
      "--------------------------------------------------------------------------\n",
      "\n",
      "Classification Report for Test Data\n",
      "\n",
      "              precision    recall  f1-score   support\n",
      "\n",
      "           0       0.72      0.61      0.66        59\n",
      "           1       0.34      0.46      0.39        26\n",
      "\n",
      "    accuracy                           0.56        85\n",
      "   macro avg       0.53      0.54      0.53        85\n",
      "weighted avg       0.60      0.56      0.58        85\n",
      "\n",
      "--------------------------------------------------------------------------\n",
      "Recall on Test Data:  0.4615\n",
      "Specificity on Test Data:  0.6102\n",
      "Accuracy on Test Data:  0.5647\n",
      "Precision on Test Data:  0.3429\n",
      "F1 Score Test Data:  0.3934\n",
      "--------------------------------------------------------------------------\n"
     ]
    },
    {
     "data": {
      "image/png": "[encoded data removed]",
      "text/plain": [
       "<Figure size 432x288 with 2 Axes>"
      ]
     },
     "metadata": {
      "needs_background": "light"
     },
     "output_type": "display_data"
    },
    {
     "data": {
      "image/png": "[encoded data removed]",
      "text/plain": [
       "<Figure size 432x288 with 2 Axes>"
      ]
     },
     "metadata": {
      "needs_background": "light"
     },
     "output_type": "display_data"
    }
   ],
   "source": [
    "tree = DecisionTreeClassifier(max_depth=6, random_state=0)\n",
    "tree.fit(X_train, y_train)\n",
    "\n",
    "print(\"Accuracy on training set: {:.3f}\".format(tree.score(X_train, y_train)))\n",
    "print(\"Accuracy on test set: {:.3f}\".format(tree.score(X_test, y_test)))\n",
    "\n",
    "tr_yp_train = tree.predict(X_train)\n",
    "tr_yp_test = tree.predict(X_test)\n",
    "\n",
    "# Model Evaluation\n",
    "\n",
    "evaluation_parametrics(\"Decision Tree Classifier\", y_train, tr_yp_train, y_test, tr_yp_test)"
   ]
  },
  {
   "cell_type": "code",
   "execution_count": 26,
   "metadata": {},
   "outputs": [
    {
     "data": {
      "image/png": "[encoded data removed]",
      "text/plain": [
       "<Figure size 576x432 with 1 Axes>"
      ]
     },
     "metadata": {
      "needs_background": "light"
     },
     "output_type": "display_data"
    }
   ],
   "source": [
    "malaria_features = [x for i,x in enumerate(new_malaria.columns) if i!=17]\n",
    "def plot_feature_importances_malaria(model):\n",
    "    plt.figure(figsize=(8,6))\n",
    "    n_features = 17\n",
    "    plt.barh(range(n_features), model.feature_importances_, align='center',color=\"c\")\n",
    "    plt.yticks(np.arange(n_features), malaria_features)\n",
    "    plt.xlabel(\"Feature importance\")\n",
    "    plt.ylabel(\"Feature\")\n",
    "    plt.ylim(-1, n_features)\n",
    "\n",
    "plot_feature_importances_malaria(tree)\n",
    "plt.savefig('feature_importance')"
   ]
  },
  {
   "cell_type": "code",
   "execution_count": 27,
   "metadata": {},
   "outputs": [
    {
     "name": "stdout",
     "output_type": "stream",
     "text": [
      "Accuracy on training set: 0.992\n",
      "Accuracy on test set: 0.529\n"
     ]
    }
   ],
   "source": [
    "from sklearn.ensemble import RandomForestClassifier\n",
    "\n",
    "rf = RandomForestClassifier(n_estimators=100, random_state=0)\n",
    "rf.fit(X_train, y_train)\n",
    "print(\"Accuracy on training set: {:.3f}\".format(rf.score(X_train, y_train)))\n",
    "print(\"Accuracy on test set: {:.3f}\".format(rf.score(X_test, y_test)))"
   ]
  },
  {
   "cell_type": "code",
   "execution_count": 28,
   "metadata": {},
   "outputs": [
    {
     "name": "stdout",
     "output_type": "stream",
     "text": [
      "Accuracy on training set: 0.675\n",
      "Accuracy on test set: 0.682\n",
      "\n",
      "-----------------------------Random Forest Classifier-----------------------------\n",
      "\n",
      "Classification Report for Train Data\n",
      "\n",
      "              precision    recall  f1-score   support\n",
      "\n",
      "           0       0.99      1.00      0.99       162\n",
      "           1       1.00      0.98      0.99        90\n",
      "\n",
      "    accuracy                           0.99       252\n",
      "   macro avg       0.99      0.99      0.99       252\n",
      "weighted avg       0.99      0.99      0.99       252\n",
      "\n",
      "--------------------------------------------------------------------------\n",
      "Recall on Train Data:  0.9778\n",
      "Specificity on Train Data:  1.0\n",
      "Accuracy on Train Data:  0.9921\n",
      "Precision on Train Data:  1.0\n",
      "F1 Score on Train Data:  0.9888\n",
      "--------------------------------------------------------------------------\n",
      "\n",
      "Classification Report for Test Data\n",
      "\n",
      "              precision    recall  f1-score   support\n",
      "\n",
      "           0       0.65      0.69      0.67        59\n",
      "           1       0.18      0.15      0.17        26\n",
      "\n",
      "    accuracy                           0.53        85\n",
      "   macro avg       0.42      0.42      0.42        85\n",
      "weighted avg       0.51      0.53      0.52        85\n",
      "\n",
      "--------------------------------------------------------------------------\n",
      "Recall on Test Data:  0.1538\n",
      "Specificity on Test Data:  0.6949\n",
      "Accuracy on Test Data:  0.5294\n",
      "Precision on Test Data:  0.1818\n",
      "F1 Score Test Data:  0.1667\n",
      "--------------------------------------------------------------------------\n"
     ]
    },
    {
     "data": {
      "image/png": "[encoded data removed]",
      "text/plain": [
       "<Figure size 432x288 with 2 Axes>"
      ]
     },
     "metadata": {
      "needs_background": "light"
     },
     "output_type": "display_data"
    },
    {
     "data": {
      "image/png": "[encoded data removed]",
      "text/plain": [
       "<Figure size 432x288 with 2 Axes>"
      ]
     },
     "metadata": {
      "needs_background": "light"
     },
     "output_type": "display_data"
    }
   ],
   "source": [
    "rf1 = RandomForestClassifier(max_depth=3, n_estimators=100, random_state=0)\n",
    "rf1.fit(X_train, y_train)\n",
    "print(\"Accuracy on training set: {:.3f}\".format(rf1.score(X_train, y_train)))\n",
    "print(\"Accuracy on test set: {:.3f}\".format(rf1.score(X_test, y_test)))\n",
    "\n",
    "rf_yp_train = rf.predict(X_train)\n",
    "rf_yp_test = rf.predict(X_test)\n",
    "\n",
    "# Model Evaluation\n",
    "\n",
    "evaluation_parametrics(\"Random Forest Classifier\", y_train, rf_yp_train, y_test, rf_yp_test)"
   ]
  },
  {
   "cell_type": "code",
   "execution_count": 29,
   "metadata": {},
   "outputs": [
    {
     "data": {
      "image/png": "[encoded data removed]",
      "text/plain": [
       "<Figure size 576x432 with 1 Axes>"
      ]
     },
     "metadata": {
      "needs_background": "light"
     },
     "output_type": "display_data"
    }
   ],
   "source": [
    "plot_feature_importances_malaria(rf)"
   ]
  },
  {
   "cell_type": "code",
   "execution_count": 30,
   "metadata": {},
   "outputs": [
    {
     "name": "stdout",
     "output_type": "stream",
     "text": [
      "Accuracy on training set: 0.861\n",
      "Accuracy on test set: 0.576\n"
     ]
    }
   ],
   "source": [
    "from sklearn.ensemble import GradientBoostingClassifier\n",
    "\n",
    "gb = GradientBoostingClassifier(random_state=0)\n",
    "gb.fit(X_train, y_train)\n",
    "\n",
    "print(\"Accuracy on training set: {:.3f}\".format(gb.score(X_train, y_train)))\n",
    "print(\"Accuracy on test set: {:.3f}\".format(gb.score(X_test, y_test)))"
   ]
  },
  {
   "cell_type": "code",
   "execution_count": 31,
   "metadata": {},
   "outputs": [
    {
     "name": "stdout",
     "output_type": "stream",
     "text": [
      "Accuracy on training set: 0.683\n",
      "Accuracy on test set: 0.706\n",
      "\n",
      "-----------------------------Gradient Boosting Classifier-----------------------------\n",
      "\n",
      "Classification Report for Train Data\n",
      "\n",
      "              precision    recall  f1-score   support\n",
      "\n",
      "           0       0.69      0.93      0.79       162\n",
      "           1       0.65      0.24      0.35        90\n",
      "\n",
      "    accuracy                           0.68       252\n",
      "   macro avg       0.67      0.59      0.57       252\n",
      "weighted avg       0.67      0.68      0.63       252\n",
      "\n",
      "--------------------------------------------------------------------------\n",
      "Recall on Train Data:  0.2444\n",
      "Specificity on Train Data:  0.9259\n",
      "Accuracy on Train Data:  0.6825\n",
      "Precision on Train Data:  0.6471\n",
      "F1 Score on Train Data:  0.3548\n",
      "--------------------------------------------------------------------------\n",
      "\n",
      "Classification Report for Test Data\n",
      "\n",
      "              precision    recall  f1-score   support\n",
      "\n",
      "           0       0.72      0.93      0.81        59\n",
      "           1       0.56      0.19      0.29        26\n",
      "\n",
      "    accuracy                           0.71        85\n",
      "   macro avg       0.64      0.56      0.55        85\n",
      "weighted avg       0.67      0.71      0.65        85\n",
      "\n",
      "--------------------------------------------------------------------------\n",
      "Recall on Test Data:  0.1923\n",
      "Specificity on Test Data:  0.9322\n",
      "Accuracy on Test Data:  0.7059\n",
      "Precision on Test Data:  0.5556\n",
      "F1 Score Test Data:  0.2857\n",
      "--------------------------------------------------------------------------\n"
     ]
    },
    {
     "data": {
      "image/png": "[encoded data removed]",
      "text/plain": [
       "<Figure size 432x288 with 2 Axes>"
      ]
     },
     "metadata": {
      "needs_background": "light"
     },
     "output_type": "display_data"
    },
    {
     "data": {
      "image/png": "[encoded data removed]",
      "text/plain": [
       "<Figure size 432x288 with 2 Axes>"
      ]
     },
     "metadata": {
      "needs_background": "light"
     },
     "output_type": "display_data"
    }
   ],
   "source": [
    "gb1 = GradientBoostingClassifier(random_state=0, max_depth=1)\n",
    "gb1.fit(X_train, y_train)\n",
    "\n",
    "print(\"Accuracy on training set: {:.3f}\".format(gb1.score(X_train, y_train)))\n",
    "print(\"Accuracy on test set: {:.3f}\".format(gb1.score(X_test, y_test)))\n",
    "\n",
    "gb_yp_train = gb1.predict(X_train)\n",
    "gb_yp_test = gb1.predict(X_test)\n",
    "\n",
    "# Model Evaluation\n",
    "\n",
    "evaluation_parametrics(\"Gradient Boosting Classifier\", y_train, gb_yp_train, y_test, gb_yp_test)"
   ]
  },
  {
   "cell_type": "code",
   "execution_count": 32,
   "metadata": {},
   "outputs": [
    {
     "data": {
      "image/png": "[encoded data removed]",
      "text/plain": [
       "<Figure size 576x432 with 1 Axes>"
      ]
     },
     "metadata": {
      "needs_background": "light"
     },
     "output_type": "display_data"
    }
   ],
   "source": [
    "plot_feature_importances_malaria(gb1)"
   ]
  },
  {
   "cell_type": "code",
   "execution_count": 33,
   "metadata": {},
   "outputs": [
    {
     "name": "stdout",
     "output_type": "stream",
     "text": [
      "Accuracy on training set: 0.75\n",
      "Accuracy on test set: 0.66\n",
      "\n",
      "-----------------------------Support Vector Classifier-----------------------------\n",
      "\n",
      "Classification Report for Train Data\n",
      "\n",
      "              precision    recall  f1-score   support\n",
      "\n",
      "           0       0.72      0.99      0.83       162\n",
      "           1       0.96      0.30      0.46        90\n",
      "\n",
      "    accuracy                           0.75       252\n",
      "   macro avg       0.84      0.65      0.65       252\n",
      "weighted avg       0.81      0.75      0.70       252\n",
      "\n",
      "--------------------------------------------------------------------------\n",
      "Recall on Train Data:  0.3\n",
      "Specificity on Train Data:  0.9938\n",
      "Accuracy on Train Data:  0.746\n",
      "Precision on Train Data:  0.9643\n",
      "F1 Score on Train Data:  0.4576\n",
      "--------------------------------------------------------------------------\n",
      "\n",
      "Classification Report for Test Data\n",
      "\n",
      "              precision    recall  f1-score   support\n",
      "\n",
      "           0       0.68      0.95      0.79        59\n",
      "           1       0.00      0.00      0.00        26\n",
      "\n",
      "    accuracy                           0.66        85\n",
      "   macro avg       0.34      0.47      0.40        85\n",
      "weighted avg       0.47      0.66      0.55        85\n",
      "\n",
      "--------------------------------------------------------------------------\n",
      "Recall on Test Data:  0.0\n",
      "Specificity on Test Data:  0.9492\n",
      "Accuracy on Test Data:  0.6588\n",
      "Precision on Test Data:  0.0\n",
      "F1 Score Test Data:  0.0\n",
      "--------------------------------------------------------------------------\n"
     ]
    },
    {
     "data": {
      "image/png": "[encoded data removed]",
      "text/plain": [
       "<Figure size 432x288 with 2 Axes>"
      ]
     },
     "metadata": {
      "needs_background": "light"
     },
     "output_type": "display_data"
    },
    {
     "data": {
      "image/png": "[encoded data removed]",
      "text/plain": [
       "<Figure size 432x288 with 2 Axes>"
      ]
     },
     "metadata": {
      "needs_background": "light"
     },
     "output_type": "display_data"
    }
   ],
   "source": [
    "from sklearn.svm import SVC\n",
    "\n",
    "svc = SVC()\n",
    "svc.fit(X_train, y_train)\n",
    "\n",
    "print(\"Accuracy on training set: {:.2f}\".format(svc.score(X_train, y_train)))\n",
    "print(\"Accuracy on test set: {:.2f}\".format(svc.score(X_test, y_test)))\n",
    "\n",
    "sv_yp_train = svc.predict(X_train)\n",
    "sv_yp_test = svc.predict(X_test)\n",
    "\n",
    "# Model Evaluation\n",
    "\n",
    "evaluation_parametrics(\"Support Vector Classifier\", y_train, sv_yp_train, y_test, sv_yp_test)"
   ]
  },
  {
   "cell_type": "code",
   "execution_count": 34,
   "metadata": {},
   "outputs": [
    {
     "name": "stdout",
     "output_type": "stream",
     "text": [
      "Accuracy on training set: 0.99\n",
      "Accuracy on test set: 0.58\n"
     ]
    }
   ],
   "source": [
    "from xgboost import XGBClassifier\n",
    "\n",
    "xgb = XGBClassifier(random_state=0)\n",
    "xgb.fit(X_train ,y_train)\n",
    "\n",
    "print(\"Accuracy on training set: {:.2f}\".format(xgb.score(X_train, y_train)))\n",
    "print(\"Accuracy on test set: {:.2f}\".format(xgb.score(X_test, y_test)))"
   ]
  },
  {
   "cell_type": "code",
   "execution_count": 35,
   "metadata": {},
   "outputs": [
    {
     "name": "stdout",
     "output_type": "stream",
     "text": [
      "Accuracy on training set: 0.667\n",
      "Accuracy on test set: 0.682\n",
      "\n",
      "-----------------------------XgBoost Classifier-----------------------------\n",
      "\n",
      "Classification Report for Train Data\n",
      "\n",
      "              precision    recall  f1-score   support\n",
      "\n",
      "           0       0.69      0.86      0.77       162\n",
      "           1       0.56      0.32      0.41        90\n",
      "\n",
      "    accuracy                           0.67       252\n",
      "   macro avg       0.63      0.59      0.59       252\n",
      "weighted avg       0.65      0.67      0.64       252\n",
      "\n",
      "--------------------------------------------------------------------------\n",
      "Recall on Train Data:  0.3222\n",
      "Specificity on Train Data:  0.858\n",
      "Accuracy on Train Data:  0.6667\n",
      "Precision on Train Data:  0.5577\n",
      "F1 Score on Train Data:  0.4085\n",
      "--------------------------------------------------------------------------\n",
      "\n",
      "Classification Report for Test Data\n",
      "\n",
      "              precision    recall  f1-score   support\n",
      "\n",
      "           0       0.74      0.85      0.79        59\n",
      "           1       0.47      0.31      0.37        26\n",
      "\n",
      "    accuracy                           0.68        85\n",
      "   macro avg       0.60      0.58      0.58        85\n",
      "weighted avg       0.65      0.68      0.66        85\n",
      "\n",
      "--------------------------------------------------------------------------\n",
      "Recall on Test Data:  0.3077\n",
      "Specificity on Test Data:  0.8475\n",
      "Accuracy on Test Data:  0.6824\n",
      "Precision on Test Data:  0.4706\n",
      "F1 Score Test Data:  0.3721\n",
      "--------------------------------------------------------------------------\n"
     ]
    },
    {
     "data": {
      "image/png": "[encoded data removed]",
      "text/plain": [
       "<Figure size 576x432 with 1 Axes>"
      ]
     },
     "metadata": {
      "needs_background": "light"
     },
     "output_type": "display_data"
    },
    {
     "data": {
      "image/png": "[encoded data removed]",
      "text/plain": [
       "<Figure size 432x288 with 2 Axes>"
      ]
     },
     "metadata": {
      "needs_background": "light"
     },
     "output_type": "display_data"
    },
    {
     "data": {
      "image/png": "[encoded data removed]",
      "text/plain": [
       "<Figure size 432x288 with 2 Axes>"
      ]
     },
     "metadata": {
      "needs_background": "light"
     },
     "output_type": "display_data"
    }
   ],
   "source": [
    "xgb = XGBClassifier(random_state=0, max_depth=1)\n",
    "xgb.fit(X_train, y_train)\n",
    "model = xgb.fit(X_train, y_train)\n",
    "print(\"Accuracy on training set: {:.3f}\".format(xgb.score(X_train, y_train)))\n",
    "print(\"Accuracy on test set: {:.3f}\".format(xgb.score(X_test, y_test)))\n",
    "plot_feature_importances_malaria(xgb)\n",
    "\n",
    "xgb.fit(X_train ,y_train)\n",
    "\n",
    "xgb_yp_train = xgb.predict(X_train)\n",
    "xgb_yp_test = xgb.predict(X_test)\n",
    "\n",
    "# Model Evaluation\n",
    "\n",
    "evaluation_parametrics(\"XgBoost Classifier\", y_train, xgb_yp_train, y_test, xgb_yp_test)"
   ]
  },
  {
   "cell_type": "code",
   "execution_count": 36,
   "metadata": {},
   "outputs": [
    {
     "name": "stdout",
     "output_type": "stream",
     "text": [
      "[1]\n"
     ]
    }
   ],
   "source": [
    "X_new = np.array([[1,0,0,0,1,0,0,1,0,0,0,1,1,0,1,0,1]])\n",
    "X_new = X_new.astype(float)\n",
    "prediction=model.predict(X_new)\n",
    "print(prediction)"
   ]
  },
  {
   "cell_type": "code",
   "execution_count": null,
   "metadata": {},
   "outputs": [],
   "source": []
  }
 ],
 "metadata": {
  "kernelspec": {
   "display_name": "Python 3 (ipykernel)",
   "language": "python",
   "name": "python3"
  },
  "language_info": {
   "codemirror_mode": {
    "name": "ipython",
    "version": 3
   },
   "file_extension": ".py",
   "mimetype": "text/x-python",
   "name": "python",
   "nbconvert_exporter": "python",
   "pygments_lexer": "ipython3",
   "version": "3.9.12"
  }
 },
 "nbformat": 4,
 "nbformat_minor": 4
}
